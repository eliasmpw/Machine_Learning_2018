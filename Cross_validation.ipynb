{
 "cells": [
  {
   "cell_type": "markdown",
   "metadata": {},
   "source": [
    "# Cross validation"
   ]
  },
  {
   "cell_type": "markdown",
   "metadata": {},
   "source": [
    "## I) Imports"
   ]
  },
  {
   "cell_type": "code",
   "execution_count": 2,
   "metadata": {},
   "outputs": [],
   "source": [
    "from proj1_helpers import *\n",
    "from custom_helpers import *\n",
    "from plot import *\n",
    "from implementations import *\n",
    "import numpy as np\n",
    "import matplotlib.pyplot as plt\n",
    "%matplotlib inline\n",
    "%load_ext autoreload\n",
    "%autoreload 2"
   ]
  },
  {
   "cell_type": "markdown",
   "metadata": {},
   "source": [
    "## II) Required functions"
   ]
  },
  {
   "cell_type": "code",
   "execution_count": 3,
   "metadata": {},
   "outputs": [],
   "source": [
    "def build_k_indices(y, k_fold, seed):\n",
    "    \"\"\"build k indices for k-fold.\"\"\"\n",
    "    num_row = y.shape[0]\n",
    "    interval = int(num_row / k_fold)\n",
    "    np.random.seed(seed)\n",
    "    indices = np.random.permutation(num_row)\n",
    "    k_indices = [indices[k * interval: (k + 1) * interval]\n",
    "                 for k in range(k_fold)]\n",
    "    return np.array(k_indices)"
   ]
  },
  {
   "cell_type": "code",
   "execution_count": 10,
   "metadata": {},
   "outputs": [],
   "source": [
    "def cross_validation(x, y, flag_method, degree, lambda_=0, gamma=1.e-6, max_iters=1000, k_fold=int(5), seed=143225):\n",
    "    \"Train the model and evaluate loss based on cross validation\"\n",
    "    mses_tr = []\n",
    "    mses_te = []\n",
    "    accuracy_tr = []\n",
    "    accuracy_te = []\n",
    "    \n",
    "    flag_add_offset = True\n",
    "    flag_standardize = True\n",
    "    flag_remove_outliers = False\n",
    "    \n",
    "    k_indices = build_k_indices(y, k_fold, seed);\n",
    "    for i in range(k_fold):\n",
    "        newk_index = np.delete(k_indices, i, 0)\n",
    "        indices_train = newk_index.ravel()\n",
    "        indices_test = k_indices[i]\n",
    "\n",
    "        # Train data at each iteration \"i\" of the loop\n",
    "        x_train = x[indices_train]\n",
    "        y_train = y[indices_train]\n",
    "\n",
    "        # Validate the data at each iteration \"i\" of the loop\n",
    "        x_test = x[indices_test]\n",
    "        y_test = y[indices_test]\n",
    "\n",
    "        # Prepare data (Standardisation and offset)\n",
    "        training_tx, testing_tx = prepare_data(x_train, x_test, flag_add_offset, flag_standardize, flag_remove_outliers, degree)\n",
    "        \n",
    "        # create initial w for methods using it\n",
    "        initial_w = np.zeros(training_tx.shape[1])\n",
    "\n",
    "        if flag_method == 0:\n",
    "            # Use linear regression (full gradient descent)\n",
    "            weight, _ = least_squares_GD(y_train, training_tx, initial_w, max_iters, gamma)\n",
    "            \n",
    "        if flag_method == 1:\n",
    "            # Use linear regression (stochastic gradient descent)\n",
    "            weight, _ = least_squares_SGD(y_train, training_tx, initial_w, max_iters, gamma)\n",
    "            \n",
    "        if flag_method == 2:\n",
    "            # Use least squares method\n",
    "            weight, _ = least_squares(y_train, training_tx)\n",
    "            \n",
    "        if flag_method == 3:\n",
    "            # Use ridge regression\n",
    "            weight, _ = ridge_regression(y_train, training_tx, lambda_)\n",
    "            \n",
    "        if flag_method == 4:\n",
    "            # Use logistic regression\n",
    "            weight, _ = logistic_regression(y_train, training_tx, initial_w, max_iters, gamma)\n",
    "            \n",
    "        if flag_method == 5:\n",
    "            # Use regularized logistic regression\n",
    "            weight, _ = reg_logistic_regression(y_train, training_tx, initial_w, max_iters, gamma, lambda_)\n",
    "            \n",
    "        loss_te = np.sqrt(2 * compute_mse(y_test, testing_tx, weight))\n",
    "        loss_tr = np.sqrt(2 * compute_mse(y_train, training_tx, weight))\n",
    "        \n",
    "        # Append loss of this round to list\n",
    "        mses_tr.append(loss_tr)\n",
    "        mses_te.append(loss_te)\n",
    "        \n",
    "        # calculate accuracy and add it to list\n",
    "        y_pred_tr = predict_labels(weight, training_tx)\n",
    "        y_pred_te = predict_labels(weight, testing_tx)\n",
    "        accuracy_tr.append(np.sum(y_pred_tr == y_train)/len(y_train))\n",
    "        accuracy_te.append(np.sum(y_pred_te == y_test)/len(y_test))\n",
    "\n",
    "\n",
    "    mean_accuracy_tr = np.mean(accuracy_tr)\n",
    "    mean_accuracy_te = np.mean(accuracy_te)\n",
    "    loss_tr = np.mean(mses_tr)\n",
    "    loss_te = np.mean(mses_te)\n",
    "    return loss_tr, loss_te, mean_accuracy_tr, mean_accuracy_te"
   ]
  },
  {
   "cell_type": "markdown",
   "metadata": {},
   "source": [
    "## III) Main\n",
    "### Load the data"
   ]
  },
  {
   "cell_type": "code",
   "execution_count": 5,
   "metadata": {},
   "outputs": [
    {
     "name": "stdout",
     "output_type": "stream",
     "text": [
      "Loading Data, please wait\n",
      "Data loaded, continue!!\n"
     ]
    }
   ],
   "source": [
    "# Loading Data\n",
    "print(\"Loading Data, please wait\")\n",
    "train_y, train_x, ids_train = load_csv_data('data/train.csv')\n",
    "print(\"Data loaded, continue!!\")"
   ]
  },
  {
   "cell_type": "code",
   "execution_count": 6,
   "metadata": {},
   "outputs": [
    {
     "data": {
      "text/plain": [
       "'\\nMethods mapping\\n0    Linear regression (full gradient descent)\\n1    Linear regression (stochastic gradient descent)\\n2    Least squares method\\n3    Ridge regression\\n4    Logistic regression (stochastic gradient descent)\\n5    Regularized logistic regression (stochastic gradient descent)\\n\\n'"
      ]
     },
     "execution_count": 6,
     "metadata": {},
     "output_type": "execute_result"
    }
   ],
   "source": [
    "\"\"\"\n",
    "Methods mapping\n",
    "0    Linear regression (full gradient descent)\n",
    "1    Linear regression (stochastic gradient descent)\n",
    "2    Least squares method\n",
    "3    Ridge regression\n",
    "4    Logistic regression (stochastic gradient descent)\n",
    "5    Regularized logistic regression (stochastic gradient descent)\n",
    "\n",
    "\"\"\""
   ]
  },
  {
   "cell_type": "markdown",
   "metadata": {},
   "source": [
    "### Cross validation for one set of parameters only\n",
    "Get the RMSE for one method with defined parameters"
   ]
  },
  {
   "cell_type": "code",
   "execution_count": 7,
   "metadata": {},
   "outputs": [
    {
     "ename": "KeyboardInterrupt",
     "evalue": "",
     "output_type": "error",
     "traceback": [
      "\u001b[0;31m---------------------------------------------------------------------------\u001b[0m",
      "\u001b[0;31mKeyboardInterrupt\u001b[0m                         Traceback (most recent call last)",
      "\u001b[0;32m<ipython-input-7-7fdbeb8a4b48>\u001b[0m in \u001b[0;36m<module>\u001b[0;34m\u001b[0m\n\u001b[1;32m     12\u001b[0m \u001b[0mxtrain\u001b[0m\u001b[0;34m=\u001b[0m\u001b[0mremove_invalid\u001b[0m\u001b[0;34m(\u001b[0m\u001b[0mtrain_x\u001b[0m\u001b[0;34m)\u001b[0m\u001b[0;34m\u001b[0m\u001b[0m\n\u001b[1;32m     13\u001b[0m \u001b[0;34m\u001b[0m\u001b[0m\n\u001b[0;32m---> 14\u001b[0;31m \u001b[0m_\u001b[0m\u001b[0;34m,\u001b[0m \u001b[0mloss_te\u001b[0m\u001b[0;34m,\u001b[0m \u001b[0m_\u001b[0m\u001b[0;34m,\u001b[0m \u001b[0maccuracy_te\u001b[0m \u001b[0;34m=\u001b[0m \u001b[0mcross_validation\u001b[0m\u001b[0;34m(\u001b[0m\u001b[0mxtrain\u001b[0m\u001b[0;34m,\u001b[0m \u001b[0mytrain_cross_validation\u001b[0m\u001b[0;34m,\u001b[0m \u001b[0mflag_method\u001b[0m\u001b[0;34m,\u001b[0m \u001b[0mdegree\u001b[0m\u001b[0;34m,\u001b[0m \u001b[0mlambda_\u001b[0m\u001b[0;34m,\u001b[0m \u001b[0mgamma\u001b[0m\u001b[0;34m,\u001b[0m \u001b[0mmax_iters\u001b[0m\u001b[0;34m)\u001b[0m\u001b[0;34m\u001b[0m\u001b[0m\n\u001b[0m\u001b[1;32m     15\u001b[0m \u001b[0mprint\u001b[0m\u001b[0;34m(\u001b[0m\u001b[0;34m\"For the Degree: %d cross-validation loss is %f, and accuracy is %f\"\u001b[0m \u001b[0;34m%\u001b[0m\u001b[0;34m(\u001b[0m\u001b[0mdegree\u001b[0m\u001b[0;34m,\u001b[0m \u001b[0mloss_te\u001b[0m\u001b[0;34m,\u001b[0m \u001b[0maccuracy_te\u001b[0m\u001b[0;34m)\u001b[0m\u001b[0;34m)\u001b[0m\u001b[0;34m\u001b[0m\u001b[0m\n",
      "\u001b[0;32m<ipython-input-4-dd01ce77d804>\u001b[0m in \u001b[0;36mcross_validation\u001b[0;34m(x, y, flag_method, degree, lambda_, gamma, max_iters, k_fold, seed)\u001b[0m\n\u001b[1;32m     25\u001b[0m \u001b[0;34m\u001b[0m\u001b[0m\n\u001b[1;32m     26\u001b[0m         \u001b[0;31m# Prepare data (Standardisation and offset)\u001b[0m\u001b[0;34m\u001b[0m\u001b[0;34m\u001b[0m\u001b[0m\n\u001b[0;32m---> 27\u001b[0;31m         \u001b[0mtraining_tx\u001b[0m\u001b[0;34m,\u001b[0m \u001b[0mtesting_tx\u001b[0m \u001b[0;34m=\u001b[0m \u001b[0mprepare_data\u001b[0m\u001b[0;34m(\u001b[0m\u001b[0mx_train\u001b[0m\u001b[0;34m,\u001b[0m \u001b[0mx_test\u001b[0m\u001b[0;34m,\u001b[0m \u001b[0mflag_add_offset\u001b[0m\u001b[0;34m,\u001b[0m \u001b[0mflag_standardize\u001b[0m\u001b[0;34m,\u001b[0m \u001b[0mflag_remove_outliers\u001b[0m\u001b[0;34m,\u001b[0m \u001b[0mdegree\u001b[0m\u001b[0;34m)\u001b[0m\u001b[0;34m\u001b[0m\u001b[0m\n\u001b[0m\u001b[1;32m     28\u001b[0m \u001b[0;34m\u001b[0m\u001b[0m\n\u001b[1;32m     29\u001b[0m         \u001b[0;31m# create initial w for methods using it\u001b[0m\u001b[0;34m\u001b[0m\u001b[0;34m\u001b[0m\u001b[0m\n",
      "\u001b[0;32m~/Documents/Machine_Learning_2018/custom_helpers.py\u001b[0m in \u001b[0;36mprepare_data\u001b[0;34m(x_train, x_test, flag_add_offset, flag_standardize, flag_remove_outliers, degree)\u001b[0m\n\u001b[1;32m    100\u001b[0m     \u001b[0;32mif\u001b[0m \u001b[0mflag_remove_outliers\u001b[0m \u001b[0;34m==\u001b[0m \u001b[0;32mTrue\u001b[0m\u001b[0;34m:\u001b[0m\u001b[0;34m\u001b[0m\u001b[0m\n\u001b[1;32m    101\u001b[0m         \u001b[0;31m# replace the outliers with the most common element of each column\u001b[0m\u001b[0;34m\u001b[0m\u001b[0;34m\u001b[0m\u001b[0m\n\u001b[0;32m--> 102\u001b[0;31m         \u001b[0mx_train\u001b[0m \u001b[0;34m=\u001b[0m \u001b[0mremove_outliers\u001b[0m\u001b[0;34m(\u001b[0m\u001b[0mx_train\u001b[0m\u001b[0;34m)\u001b[0m\u001b[0;34m\u001b[0m\u001b[0m\n\u001b[0m\u001b[1;32m    103\u001b[0m         \u001b[0mx_test\u001b[0m \u001b[0;34m=\u001b[0m \u001b[0mremove_outliers\u001b[0m\u001b[0;34m(\u001b[0m\u001b[0mx_test\u001b[0m\u001b[0;34m)\u001b[0m\u001b[0;34m\u001b[0m\u001b[0m\n\u001b[1;32m    104\u001b[0m \u001b[0;34m\u001b[0m\u001b[0m\n",
      "\u001b[0;32m~/Documents/Machine_Learning_2018/custom_helpers.py\u001b[0m in \u001b[0;36mremove_outliers\u001b[0;34m(x)\u001b[0m\n\u001b[1;32m     78\u001b[0m         \u001b[0mreplace_most_frecuent\u001b[0m \u001b[0;34m=\u001b[0m \u001b[0mnp\u001b[0m\u001b[0;34m.\u001b[0m\u001b[0margmax\u001b[0m\u001b[0;34m(\u001b[0m\u001b[0mcounts\u001b[0m\u001b[0;34m)\u001b[0m\u001b[0;34m\u001b[0m\u001b[0m\n\u001b[1;32m     79\u001b[0m         \u001b[0mupper_quartile\u001b[0m \u001b[0;34m=\u001b[0m \u001b[0mnp\u001b[0m\u001b[0;34m.\u001b[0m\u001b[0mpercentile\u001b[0m\u001b[0;34m(\u001b[0m\u001b[0mdata_copy\u001b[0m\u001b[0;34m,\u001b[0m \u001b[0;36m75\u001b[0m\u001b[0;34m)\u001b[0m\u001b[0;34m\u001b[0m\u001b[0m\n\u001b[0;32m---> 80\u001b[0;31m         \u001b[0mlower_quartile\u001b[0m \u001b[0;34m=\u001b[0m \u001b[0mnp\u001b[0m\u001b[0;34m.\u001b[0m\u001b[0mpercentile\u001b[0m\u001b[0;34m(\u001b[0m\u001b[0mdata_copy\u001b[0m\u001b[0;34m,\u001b[0m \u001b[0;36m25\u001b[0m\u001b[0;34m)\u001b[0m\u001b[0;34m\u001b[0m\u001b[0m\n\u001b[0m\u001b[1;32m     81\u001b[0m         \u001b[0mIQR\u001b[0m \u001b[0;34m=\u001b[0m \u001b[0mupper_quartile\u001b[0m \u001b[0;34m-\u001b[0m \u001b[0mlower_quartile\u001b[0m\u001b[0;34m\u001b[0m\u001b[0m\n\u001b[1;32m     82\u001b[0m         \u001b[0mvalid_data\u001b[0m \u001b[0;34m=\u001b[0m \u001b[0;34m(\u001b[0m\u001b[0mlower_quartile\u001b[0m \u001b[0;34m-\u001b[0m \u001b[0mIQR\u001b[0m\u001b[0;34m*\u001b[0m\u001b[0;36m1.5\u001b[0m\u001b[0;34m,\u001b[0m \u001b[0mupper_quartile\u001b[0m \u001b[0;34m+\u001b[0m \u001b[0mIQR\u001b[0m\u001b[0;34m*\u001b[0m\u001b[0;36m1.5\u001b[0m\u001b[0;34m)\u001b[0m\u001b[0;34m\u001b[0m\u001b[0m\n",
      "\u001b[0;32m~/Documents/ml/ENV/lib/python3.6/site-packages/numpy/lib/function_base.py\u001b[0m in \u001b[0;36mpercentile\u001b[0;34m(a, q, axis, out, overwrite_input, interpolation, keepdims)\u001b[0m\n\u001b[1;32m   3538\u001b[0m         \u001b[0;32mraise\u001b[0m \u001b[0mValueError\u001b[0m\u001b[0;34m(\u001b[0m\u001b[0;34m\"Percentiles must be in the range [0, 100]\"\u001b[0m\u001b[0;34m)\u001b[0m\u001b[0;34m\u001b[0m\u001b[0m\n\u001b[1;32m   3539\u001b[0m     return _quantile_unchecked(\n\u001b[0;32m-> 3540\u001b[0;31m         a, q, axis, out, overwrite_input, interpolation, keepdims)\n\u001b[0m\u001b[1;32m   3541\u001b[0m \u001b[0;34m\u001b[0m\u001b[0m\n\u001b[1;32m   3542\u001b[0m \u001b[0;34m\u001b[0m\u001b[0m\n",
      "\u001b[0;32m~/Documents/ml/ENV/lib/python3.6/site-packages/numpy/lib/function_base.py\u001b[0m in \u001b[0;36m_quantile_unchecked\u001b[0;34m(a, q, axis, out, overwrite_input, interpolation, keepdims)\u001b[0m\n\u001b[1;32m   3650\u001b[0m     r, k = _ureduce(a, func=_quantile_ureduce_func, q=q, axis=axis, out=out,\n\u001b[1;32m   3651\u001b[0m                     \u001b[0moverwrite_input\u001b[0m\u001b[0;34m=\u001b[0m\u001b[0moverwrite_input\u001b[0m\u001b[0;34m,\u001b[0m\u001b[0;34m\u001b[0m\u001b[0m\n\u001b[0;32m-> 3652\u001b[0;31m                     interpolation=interpolation)\n\u001b[0m\u001b[1;32m   3653\u001b[0m     \u001b[0;32mif\u001b[0m \u001b[0mkeepdims\u001b[0m\u001b[0;34m:\u001b[0m\u001b[0;34m\u001b[0m\u001b[0m\n\u001b[1;32m   3654\u001b[0m         \u001b[0;32mreturn\u001b[0m \u001b[0mr\u001b[0m\u001b[0;34m.\u001b[0m\u001b[0mreshape\u001b[0m\u001b[0;34m(\u001b[0m\u001b[0mq\u001b[0m\u001b[0;34m.\u001b[0m\u001b[0mshape\u001b[0m \u001b[0;34m+\u001b[0m \u001b[0mk\u001b[0m\u001b[0;34m)\u001b[0m\u001b[0;34m\u001b[0m\u001b[0m\n",
      "\u001b[0;32m~/Documents/ml/ENV/lib/python3.6/site-packages/numpy/lib/function_base.py\u001b[0m in \u001b[0;36m_ureduce\u001b[0;34m(a, func, **kwargs)\u001b[0m\n\u001b[1;32m   3248\u001b[0m         \u001b[0mkeepdim\u001b[0m \u001b[0;34m=\u001b[0m \u001b[0;34m(\u001b[0m\u001b[0;36m1\u001b[0m\u001b[0;34m,\u001b[0m\u001b[0;34m)\u001b[0m \u001b[0;34m*\u001b[0m \u001b[0ma\u001b[0m\u001b[0;34m.\u001b[0m\u001b[0mndim\u001b[0m\u001b[0;34m\u001b[0m\u001b[0m\n\u001b[1;32m   3249\u001b[0m \u001b[0;34m\u001b[0m\u001b[0m\n\u001b[0;32m-> 3250\u001b[0;31m     \u001b[0mr\u001b[0m \u001b[0;34m=\u001b[0m \u001b[0mfunc\u001b[0m\u001b[0;34m(\u001b[0m\u001b[0ma\u001b[0m\u001b[0;34m,\u001b[0m \u001b[0;34m**\u001b[0m\u001b[0mkwargs\u001b[0m\u001b[0;34m)\u001b[0m\u001b[0;34m\u001b[0m\u001b[0m\n\u001b[0m\u001b[1;32m   3251\u001b[0m     \u001b[0;32mreturn\u001b[0m \u001b[0mr\u001b[0m\u001b[0;34m,\u001b[0m \u001b[0mkeepdim\u001b[0m\u001b[0;34m\u001b[0m\u001b[0m\n\u001b[1;32m   3252\u001b[0m \u001b[0;34m\u001b[0m\u001b[0m\n",
      "\u001b[0;32m~/Documents/ml/ENV/lib/python3.6/site-packages/numpy/lib/function_base.py\u001b[0m in \u001b[0;36m_quantile_ureduce_func\u001b[0;34m(a, q, axis, out, overwrite_input, interpolation, keepdims)\u001b[0m\n\u001b[1;32m   3752\u001b[0m         \u001b[0mweights_above\u001b[0m\u001b[0;34m.\u001b[0m\u001b[0mshape\u001b[0m \u001b[0;34m=\u001b[0m \u001b[0mweights_shape\u001b[0m\u001b[0;34m\u001b[0m\u001b[0m\n\u001b[1;32m   3753\u001b[0m \u001b[0;34m\u001b[0m\u001b[0m\n\u001b[0;32m-> 3754\u001b[0;31m         \u001b[0map\u001b[0m\u001b[0;34m.\u001b[0m\u001b[0mpartition\u001b[0m\u001b[0;34m(\u001b[0m\u001b[0mconcatenate\u001b[0m\u001b[0;34m(\u001b[0m\u001b[0;34m(\u001b[0m\u001b[0mindices_below\u001b[0m\u001b[0;34m,\u001b[0m \u001b[0mindices_above\u001b[0m\u001b[0;34m)\u001b[0m\u001b[0;34m)\u001b[0m\u001b[0;34m,\u001b[0m \u001b[0maxis\u001b[0m\u001b[0;34m=\u001b[0m\u001b[0maxis\u001b[0m\u001b[0;34m)\u001b[0m\u001b[0;34m\u001b[0m\u001b[0m\n\u001b[0m\u001b[1;32m   3755\u001b[0m \u001b[0;34m\u001b[0m\u001b[0m\n\u001b[1;32m   3756\u001b[0m         \u001b[0;31m# ensure axis with qth is first\u001b[0m\u001b[0;34m\u001b[0m\u001b[0;34m\u001b[0m\u001b[0m\n",
      "\u001b[0;31mKeyboardInterrupt\u001b[0m: "
     ]
    }
   ],
   "source": [
    "# Chose learnig method to use (see mapping above)\n",
    "flag_method = 2;\n",
    "degree = 2\n",
    "lambda_ = 0.001\n",
    "\n",
    "# set Gradient descent parameters\n",
    "gamma = 0.01\n",
    "max_iters = 20\n",
    "\n",
    "# Preparing data for cross validation\n",
    "ytrain_cross_validation = train_y.copy()\n",
    "xtrain=remove_invalid(train_x)\n",
    "\n",
    "_, loss_te, _, accuracy_te = cross_validation(xtrain, ytrain_cross_validation, flag_method, degree, lambda_, gamma, max_iters)\n",
    "print(\"For the Degree: %d cross-validation loss is %f, and accuracy is %f\" %(degree, loss_te, accuracy_te))"
   ]
  },
  {
   "cell_type": "markdown",
   "metadata": {},
   "source": [
    "### Grid search for methods without regularisation\n",
    "Test polynominal expansion of different degrees"
   ]
  },
  {
   "cell_type": "code",
   "execution_count": null,
   "metadata": {},
   "outputs": [],
   "source": [
    "# Chose learnig method to use (see mapping above)\n",
    "flag_method = 4;\n",
    "\n",
    "# set Gradient descent parameters\n",
    "gamma = 0.1\n",
    "max_iters = 1000\n",
    "\n",
    "# Define range for the polynomial expansion\n",
    "degree_range = np.arange(1, 3)\n",
    "\n",
    "train_losses = np.zeros(len(degree_range))\n",
    "test_losses = np.zeros(len(degree_range))\n",
    "train_accuracies = np.zeros(len(degree_range))\n",
    "test_accuracies = np.zeros(len(degree_range))\n",
    "\n",
    "# Preparing data for cross validation\n",
    "ytrain_cross_validation = train_y.copy()\n",
    "xtrain=remove_invalid(train_x)\n",
    "\n",
    "for ind_degree, degree in enumerate(degree_range):\n",
    "    loss_tr, loss_te , accuracy_tr, accuracy_te= cross_validation(xtrain, ytrain_cross_validation, flag_method, degree, 0, gamma, max_iters)\n",
    "    print(\"For the Degree: %d , The LOSS is : %f\" %(degree, loss_te))\n",
    "    train_losses[ind_degree] = loss_tr\n",
    "    test_losses[ind_degree] = loss_te\n",
    "    test_accuracies[ind_degree] = accuracy_tr\n",
    "    test_accuracies[ind_degree] = accuracy_te\n",
    "    \n",
    "print(\"Cross Validation finished!!\")\n",
    "best_value = np.unravel_index(np.argmin(test_losses), test_losses.shape)\n",
    "print(\"The best degrees are: \", degree_range[best_value])"
   ]
  },
  {
   "cell_type": "code",
   "execution_count": null,
   "metadata": {},
   "outputs": [],
   "source": [
    "# Visualize\n",
    "print(\"Test accuracy:\")\n",
    "print(test_accuracies)\n",
    "cross_validation_visualization_degree(degree_range, train_losses, test_losses)"
   ]
  },
  {
   "cell_type": "markdown",
   "metadata": {},
   "source": [
    "### Grid search for Methods using regularisation\n",
    "Grid search over different degrees of polynominal expansion and for different lambdas"
   ]
  },
  {
   "cell_type": "code",
   "execution_count": 16,
   "metadata": {},
   "outputs": [
    {
     "name": "stdout",
     "output_type": "stream",
     "text": [
      "iteration\t 0 \tloss:  0.013862943611198907\n",
      "iteration\t 50 \tloss:  0.6244300482999456\n",
      "iteration\t 100 \tloss:  0.5947400919348644\n",
      "iteration\t 150 \tloss:  0.5820373274626097\n",
      "iteration\t 200 \tloss:  0.5728809514233614\n",
      "iteration\t 250 \tloss:  0.5658750402261199\n",
      "iteration\t 300 \tloss:  0.5604126331420326\n",
      "iteration\t 350 \tloss:  0.5560955680418571\n",
      "iteration\t 400 \tloss:  0.552643123927952\n",
      "iteration\t 450 \tloss:  0.54985257884781\n",
      "iteration\t 0 \tloss:  0.013862943611198907\n",
      "iteration\t 50 \tloss:  0.6245079087298614\n",
      "iteration\t 100 \tloss:  0.5950044158532545\n",
      "iteration\t 150 \tloss:  0.5824356514361658\n",
      "iteration\t 200 \tloss:  0.5733888099619017\n",
      "iteration\t 250 \tloss:  0.566475757295157\n",
      "iteration\t 300 \tloss:  0.5610924159225454\n",
      "iteration\t 350 \tloss:  0.556842633195852\n",
      "iteration\t 400 \tloss:  0.5534473917493695\n",
      "iteration\t 450 \tloss:  0.5507054623527218\n",
      "iteration\t 0 \tloss:  0.013862943611198907\n",
      "iteration\t 50 \tloss:  0.6247309791715705\n",
      "iteration\t 100 \tloss:  0.5953271991580401\n",
      "iteration\t 150 \tloss:  0.5828083152621322\n",
      "iteration\t 200 \tloss:  0.5737909752899786\n",
      "iteration\t 250 \tloss:  0.5668935926620068\n",
      "iteration\t 300 \tloss:  0.5615180583398546\n",
      "iteration\t 350 \tloss:  0.5572719664531806\n",
      "iteration\t 400 \tloss:  0.5538782857681408\n",
      "iteration\t 450 \tloss:  0.5511367828624677\n",
      "iteration\t 0 \tloss:  0.013862943611198907\n",
      "iteration\t 50 \tloss:  0.6243497146737671\n",
      "iteration\t 100 \tloss:  0.5947045624867114\n",
      "iteration\t 150 \tloss:  0.5820445840832458\n",
      "iteration\t 200 \tloss:  0.5729336914987154\n",
      "iteration\t 250 \tloss:  0.5659726072431465\n",
      "iteration\t 300 \tloss:  0.5605513894467062\n",
      "iteration\t 350 \tloss:  0.5562703629960359\n",
      "iteration\t 400 \tloss:  0.5528483246982817\n",
      "iteration\t 450 \tloss:  0.550082738916251\n",
      "iteration\t 0 \tloss:  0.013862943611198907\n",
      "iteration\t 50 \tloss:  0.624740661707601\n",
      "iteration\t 100 \tloss:  0.5951854945685351\n",
      "iteration\t 150 \tloss:  0.5825106153583675\n",
      "iteration\t 200 \tloss:  0.5733813222837236\n",
      "iteration\t 250 \tloss:  0.5664062266373994\n",
      "iteration\t 300 \tloss:  0.5609753549397323\n",
      "iteration\t 350 \tloss:  0.5566883366555754\n",
      "iteration\t 400 \tloss:  0.5532633068497474\n",
      "iteration\t 450 \tloss:  0.550497078282443\n",
      "For the Degree: 1 and lambda 0.00E+00, The LOSS is : 1.048543\n",
      "iteration\t 0 \tloss:  0.013862943611198907\n",
      "iteration\t 50 \tloss:  0.6247519917007667\n",
      "iteration\t 100 \tloss:  0.5951932004186123\n",
      "iteration\t 150 \tloss:  0.5824894564990535\n",
      "iteration\t 200 \tloss:  0.5734617092350994\n",
      "iteration\t 250 \tloss:  0.5666778004856888\n",
      "iteration\t 300 \tloss:  0.5614928925268234\n",
      "iteration\t 350 \tloss:  0.557483385612811\n",
      "iteration\t 400 \tloss:  0.5543509648356976\n",
      "iteration\t 450 \tloss:  0.5518808961464566\n",
      "iteration\t 0 \tloss:  0.013862943611198907\n",
      "iteration\t 50 \tloss:  0.6248237388427959\n",
      "iteration\t 100 \tloss:  0.5954441328015566\n",
      "iteration\t 150 \tloss:  0.5828726256235622\n",
      "iteration\t 200 \tloss:  0.5739540403435515\n",
      "iteration\t 250 \tloss:  0.56726253545605\n",
      "iteration\t 300 \tloss:  0.5621557205119442\n",
      "iteration\t 350 \tloss:  0.5582118346202253\n",
      "iteration\t 400 \tloss:  0.5551342651657056\n",
      "iteration\t 450 \tloss:  0.5527098724755848\n",
      "iteration\t 0 \tloss:  0.013862943611198907\n",
      "iteration\t 50 \tloss:  0.6250486841482771\n",
      "iteration\t 100 \tloss:  0.5957695636029087\n",
      "iteration\t 150 \tloss:  0.5832456736885102\n",
      "iteration\t 200 \tloss:  0.5743538266109566\n",
      "iteration\t 250 \tloss:  0.5676758021274052\n",
      "iteration\t 300 \tloss:  0.5625750611609753\n",
      "iteration\t 350 \tloss:  0.5586333863548643\n",
      "iteration\t 400 \tloss:  0.5555560838690257\n",
      "iteration\t 450 \tloss:  0.5531310098761106\n",
      "iteration\t 0 \tloss:  0.013862943611198907\n",
      "iteration\t 50 \tloss:  0.6246690019631314\n",
      "iteration\t 100 \tloss:  0.5951522895549206\n",
      "iteration\t 150 \tloss:  0.5824906137207168\n",
      "iteration\t 200 \tloss:  0.5735080357252619\n",
      "iteration\t 250 \tloss:  0.5667683644991666\n",
      "iteration\t 300 \tloss:  0.5616233869770295\n",
      "iteration\t 350 \tloss:  0.5576480261295909\n",
      "iteration\t 400 \tloss:  0.5545437915175403\n",
      "iteration\t 450 \tloss:  0.552096408712193\n",
      "iteration\t 0 \tloss:  0.013862943611198907\n",
      "iteration\t 50 \tloss:  0.6250577651692211\n",
      "iteration\t 100 \tloss:  0.5956314772649507\n",
      "iteration\t 150 \tloss:  0.5829572612381069\n",
      "iteration\t 200 \tloss:  0.5739580284079566\n",
      "iteration\t 250 \tloss:  0.5672059154028021\n",
      "iteration\t 300 \tloss:  0.5620530515897593\n",
      "iteration\t 350 \tloss:  0.5580734757349486\n",
      "iteration\t 400 \tloss:  0.5549676755869658\n",
      "iteration\t 450 \tloss:  0.5525205430291126\n",
      "For the Degree: 1 and lambda 3.00E+02, The LOSS is : 1.047874\n",
      "iteration\t 0 \tloss:  0.013862943611198907\n",
      "iteration\t 50 \tloss:  0.6250629045254009\n",
      "iteration\t 100 \tloss:  0.5956820253060126\n",
      "iteration\t 150 \tloss:  0.5830857986509163\n",
      "iteration\t 200 \tloss:  0.5742720176861659\n",
      "iteration\t 250 \tloss:  0.5677614035472149\n",
      "iteration\t 300 \tloss:  0.5628797315614684\n",
      "iteration\t 350 \tloss:  0.559185738551979\n",
      "iteration\t 400 \tloss:  0.5563690859663469\n",
      "iteration\t 450 \tloss:  0.5542070405547952\n",
      "iteration\t 0 \tloss:  0.013862943611198907\n",
      "iteration\t 50 \tloss:  0.6251288914265184\n",
      "iteration\t 100 \tloss:  0.5959207748146442\n",
      "iteration\t 150 \tloss:  0.5834550579733433\n",
      "iteration\t 200 \tloss:  0.5747494891577654\n",
      "iteration\t 250 \tloss:  0.5683299730573044\n",
      "iteration\t 300 \tloss:  0.5635244431638994\n",
      "iteration\t 350 \tloss:  0.5598934233848474\n",
      "iteration\t 400 \tloss:  0.5571283500745833\n",
      "iteration\t 450 \tloss:  0.5550082116417552\n",
      "iteration\t 0 \tloss:  0.013862943611198907\n",
      "iteration\t 50 \tloss:  0.6253556082369256\n",
      "iteration\t 100 \tloss:  0.5962485144244761\n",
      "iteration\t 150 \tloss:  0.5838283886183716\n",
      "iteration\t 200 \tloss:  0.5751473755559843\n",
      "iteration\t 250 \tloss:  0.5687396914685471\n",
      "iteration\t 300 \tloss:  0.5639389806779388\n",
      "iteration\t 350 \tloss:  0.5603091815078756\n",
      "iteration\t 400 \tloss:  0.5575436115413194\n",
      "iteration\t 450 \tloss:  0.5554222469042528\n",
      "iteration\t 0 \tloss:  0.013862943611198907\n",
      "iteration\t 50 \tloss:  0.6249774246075522\n",
      "iteration\t 100 \tloss:  0.5956361820684796\n",
      "iteration\t 150 \tloss:  0.5830811998636529\n",
      "iteration\t 200 \tloss:  0.5743119403567283\n",
      "iteration\t 250 \tloss:  0.5678447115171406\n",
      "iteration\t 300 \tloss:  0.5630018011268678\n",
      "iteration\t 350 \tloss:  0.5593405127906393\n",
      "iteration\t 400 \tloss:  0.5565503994164706\n",
      "iteration\t 450 \tloss:  0.5544092345271031\n",
      "iteration\t 0 \tloss:  0.013862943611198907\n",
      "iteration\t 50 \tloss:  0.6253640957298239\n",
      "iteration\t 100 \tloss:  0.5961134253293842\n",
      "iteration\t 150 \tloss:  0.5835474002539426\n",
      "iteration\t 200 \tloss:  0.5747624757725435\n",
      "iteration\t 250 \tloss:  0.5682836522940578\n",
      "iteration\t 300 \tloss:  0.5634336389965766\n",
      "iteration\t 350 \tloss:  0.5597687216637258\n",
      "iteration\t 400 \tloss:  0.5569773670681931\n",
      "iteration\t 450 \tloss:  0.5548365431570298\n",
      "For the Degree: 1 and lambda 6.00E+02, The LOSS is : 1.049442\n",
      "iteration\t 0 \tloss:  0.013862943611198907\n",
      "iteration\t 50 \tloss:  0.6253619628932113\n",
      "iteration\t 100 \tloss:  0.5961761260927048\n",
      "iteration\t 150 \tloss:  0.5837293087329958\n",
      "iteration\t 200 \tloss:  0.5751544300333193\n",
      "iteration\t 250 \tloss:  0.5689295346140987\n",
      "iteration\t 300 \tloss:  0.5643559538337939\n",
      "iteration\t 350 \tloss:  0.5609767398151041\n",
      "iteration\t 400 \tloss:  0.5584708385994083\n",
      "iteration\t 450 \tloss:  0.5566087952850934\n",
      "iteration\t 0 \tloss:  0.013862943611198907\n",
      "iteration\t 50 \tloss:  0.6254225462153734\n",
      "iteration\t 100 \tloss:  0.5964040843156789\n",
      "iteration\t 150 \tloss:  0.5840866147434496\n",
      "iteration\t 200 \tloss:  0.5756190443489093\n",
      "iteration\t 250 \tloss:  0.5694836088157963\n",
      "iteration\t 300 \tloss:  0.5649836529575583\n",
      "iteration\t 350 \tloss:  0.5616641058122711\n",
      "iteration\t 400 \tloss:  0.5592058622036442\n",
      "iteration\t 450 \tloss:  0.5573813801122123\n",
      "iteration\t 0 \tloss:  0.013862943611198907\n",
      "iteration\t 50 \tloss:  0.6256509219818035\n",
      "iteration\t 100 \tloss:  0.5967337120738029\n",
      "iteration\t 150 \tloss:  0.5844598293674549\n",
      "iteration\t 200 \tloss:  0.576014861135759\n",
      "iteration\t 250 \tloss:  0.5698898361205172\n",
      "iteration\t 300 \tloss:  0.5653936727267974\n",
      "iteration\t 350 \tloss:  0.5620746064153826\n",
      "iteration\t 400 \tloss:  0.5596153673172011\n",
      "iteration\t 450 \tloss:  0.5577893682741507\n",
      "iteration\t 0 \tloss:  0.013862943611198907\n",
      "iteration\t 50 \tloss:  0.6252741590188492\n",
      "iteration\t 100 \tloss:  0.5961259285868212\n",
      "iteration\t 150 \tloss:  0.5837197924623032\n",
      "iteration\t 200 \tloss:  0.5751889197546332\n",
      "iteration\t 250 \tloss:  0.5690066483819894\n",
      "iteration\t 300 \tloss:  0.5644707297860304\n",
      "iteration\t 350 \tloss:  0.5611227708389352\n",
      "iteration\t 400 \tloss:  0.5586416552669177\n",
      "iteration\t 450 \tloss:  0.5567985152250189\n",
      "iteration\t 0 \tloss:  0.013862943611198907\n",
      "iteration\t 50 \tloss:  0.6256588339694591\n"
     ]
    },
    {
     "name": "stdout",
     "output_type": "stream",
     "text": [
      "iteration\t 100 \tloss:  0.5966011916342429\n",
      "iteration\t 150 \tloss:  0.5841850624673914\n",
      "iteration\t 200 \tloss:  0.5756391721763219\n",
      "iteration\t 250 \tloss:  0.5694458306292465\n",
      "iteration\t 300 \tloss:  0.5649032472991616\n",
      "iteration\t 350 \tloss:  0.5615519725071738\n",
      "iteration\t 400 \tloss:  0.5590697958578755\n",
      "iteration\t 450 \tloss:  0.5572270620886409\n",
      "For the Degree: 1 and lambda 9.00E+02, The LOSS is : 1.050647\n",
      "Cross Validation finished!!\n",
      "(0, 1)\n",
      "Best degree: 1, with lambda 300.000000 \n"
     ]
    }
   ],
   "source": [
    "# Chose learnig method to use (see mapping above)\n",
    "flag_method = 5;\n",
    "\n",
    "# set Gradient descent parameters\n",
    "gamma = 0.1\n",
    "max_iters = 500\n",
    "\n",
    "# Define range for the polynomial expansion and for lambda\n",
    "degree_range = np.arange(1, 2)\n",
    "lambda_range = np.arange(0, 1000, 300)\n",
    "\n",
    "train_losses_matrix = np.zeros((len(degree_range), len(lambda_range)))\n",
    "test_losses_matrix = np.zeros((len(degree_range), len(lambda_range)))\n",
    "train_accuracies_matrix = np.zeros((len(degree_range), len(lambda_range)))\n",
    "test_accuracies_matrix = np.zeros((len(degree_range), len(lambda_range)))\n",
    "\n",
    "# Preparing data for cross validation\n",
    "ytrain_cross_validation = train_y.copy()\n",
    "xtrain = remove_invalid(train_x)\n",
    "\n",
    "for ind_degree, degree in enumerate(degree_range):\n",
    "    for ind_lambda_, lambda_ in enumerate(lambda_range):\n",
    "        loss_tr, loss_te , accuracy_tr, accuracy_te= cross_validation(xtrain, ytrain_cross_validation, flag_method, degree, lambda_, gamma, max_iters)\n",
    "        print(\"For the Degree: %d and lambda %.2E, The LOSS is : %f\" %(degree, lambda_, loss_te))\n",
    "        train_losses_matrix[ind_degree, ind_lambda_] = loss_tr\n",
    "        test_losses_matrix[ind_degree, ind_lambda_] = loss_te\n",
    "        train_accuracies_matrix[ind_degree, ind_lambda_] = accuracy_tr\n",
    "        test_accuracies_matrix[ind_degree, ind_lambda_] = accuracy_te\n",
    "\n",
    "print(\"Cross Validation finished!!\")\n",
    "best_value = np.unravel_index(np.argmin(test_losses_matrix), test_losses_matrix.shape)\n",
    "print(best_value)\n",
    "print(\"Best degree: %d, with lambda %f \" %(degree_range[best_value[0]], lambda_range[best_value[1]]))"
   ]
  },
  {
   "cell_type": "code",
   "execution_count": 15,
   "metadata": {},
   "outputs": [
    {
     "name": "stdout",
     "output_type": "stream",
     "text": [
      "Test accuracy:\n",
      "[[0.707696 0.70772  0.70772  0.707636]]\n"
     ]
    },
    {
     "data": {
      "image/png": "[encoded data removed]",
      "text/plain": [
       "<Figure size 432x288 with 1 Axes>"
      ]
     },
     "metadata": {
      "needs_background": "light"
     },
     "output_type": "display_data"
    }
   ],
   "source": [
    "# Visualize\n",
    "print(\"Test accuracy:\")\n",
    "print(test_accuracies_matrix)\n",
    "cross_validation_visualization_lambda(lambda_range, train_losses_matrix[0, :], test_losses_matrix[0, :])"
   ]
  },
  {
   "cell_type": "code",
   "execution_count": null,
   "metadata": {},
   "outputs": [],
   "source": []
  }
 ],
 "metadata": {
  "kernelspec": {
   "display_name": "Python 3",
   "language": "python",
   "name": "python3"
  },
  "language_info": {
   "codemirror_mode": {
    "name": "ipython",
    "version": 3
   },
   "file_extension": ".py",
   "mimetype": "text/x-python",
   "name": "python",
   "nbconvert_exporter": "python",
   "pygments_lexer": "ipython3",
   "version": "3.6.5"
  }
 },
 "nbformat": 4,
 "nbformat_minor": 2
}
